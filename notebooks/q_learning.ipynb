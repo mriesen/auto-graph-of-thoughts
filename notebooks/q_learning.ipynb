{
 "cells": [
  {
   "cell_type": "markdown",
   "source": [
    "# Automated Graph of Thoughts - Q-Learning with Discrete Depth Observation Space\n",
    "As a first approach, a simple Q-learning agent is trained on a subspace of the environment `GraphOfThoughtsEnv`.\n",
    "Concretely, the observation space is reduced to a discrete one that is represented by the `depth` of the graph of operations."
   ],
   "metadata": {
    "collapsed": false
   },
   "id": "da8e87edce92263d"
  },
  {
   "cell_type": "markdown",
   "source": [
    "## Ensure Reproducibility\n",
    "The seed for the PRNG is set to $0$."
   ],
   "metadata": {
    "collapsed": false
   },
   "id": "d5bddc0d7d328f0c"
  },
  {
   "cell_type": "code",
   "source": [
    "from stable_baselines3.common.utils import set_random_seed\n",
    "\n",
    "seed = 0\n",
    "set_random_seed(seed)"
   ],
   "metadata": {
    "collapsed": false,
    "ExecuteTime": {
     "end_time": "2024-05-03T11:25:36.783795Z",
     "start_time": "2024-05-03T11:25:32.661288Z"
    }
   },
   "id": "b52ff94e6cc26024",
   "outputs": [],
   "execution_count": 1
  },
  {
   "cell_type": "markdown",
   "source": [
    "## Provide Required Components with Parameters\n",
    "Factory function for the required components are provided.\n",
    "The experiment is employed with the following parameters:\n",
    "- maximum graph depth: $8$\n",
    "- maximum graph breadth: $4$\n",
    "- divergence cutoff factor: $0.5$\n",
    "\n",
    "The model is trained solely on lists of cardinality $16$.\n",
    "The complexity equals the list cardinality."
   ],
   "metadata": {
    "collapsed": false
   },
   "id": "21843e1a2b44be91"
  },
  {
   "cell_type": "code",
   "source": [
    "from auto_graph_of_thoughts.language_model import create_simulated_realistic_chat_gpt_sum_list\n",
    "from auto_graph_of_thoughts.controller import ContinuousGraphController\n",
    "from random import Random\n",
    "from typing import Tuple\n",
    "\n",
    "from pure_graph_of_thoughts.api.state import State\n",
    "\n",
    "MAX_DEPTH = 8\n",
    "MAX_BREADTH = 4\n",
    "DIVERGENCE_CUTOFF_FACTOR = 0.5\n",
    "\n",
    "CARDINALITIES = [16]\n",
    "MAX_COMPLEXITY = max(CARDINALITIES)\n",
    "MAX_OPERATIONS = 32\n",
    "\n",
    "\n",
    "def generate_init_state(rnd: Random) -> Tuple[int, State]:\n",
    "    list_cardinality = rnd.choice(CARDINALITIES)\n",
    "    init_state: State = {\n",
    "        'list': [\n",
    "            rnd.randint(0, 9) for _ in range(list_cardinality)\n",
    "        ]\n",
    "\n",
    "    }\n",
    "    return list_cardinality, init_state\n",
    "\n",
    "\n",
    "def create_controller() -> ContinuousGraphController:\n",
    "    rnd = Random(seed)\n",
    "    return ContinuousGraphController(\n",
    "            language_model=create_simulated_realistic_chat_gpt_sum_list(seed),\n",
    "            generate_init_state=lambda: generate_init_state(rnd),\n",
    "            max_depth=MAX_DEPTH,\n",
    "            max_breadth=MAX_BREADTH,\n",
    "            divergence_cutoff_factor=DIVERGENCE_CUTOFF_FACTOR,\n",
    "            max_complexity=MAX_COMPLEXITY,\n",
    "            max_operations=MAX_OPERATIONS\n",
    "    )\n"
   ],
   "metadata": {
    "collapsed": true,
    "ExecuteTime": {
     "end_time": "2024-05-03T11:25:37.720591Z",
     "start_time": "2024-05-03T11:25:36.785414Z"
    }
   },
   "id": "initial_id",
   "outputs": [],
   "execution_count": 2
  },
  {
   "cell_type": "markdown",
   "source": [
    "## Instantiate Environment\n",
    "The `GraphOfThoughtsEnv` environment is instantiated.\n",
    "The maximum time steps is set to $100$.\n",
    "To reduce the observation space to a discrete shape, the actual environment is wrapped in a discrete observation projection wrapper.\n",
    "The resulting `depth_env` is used for the training."
   ],
   "metadata": {
    "collapsed": false
   },
   "id": "61eccda5083deb83"
  },
  {
   "cell_type": "code",
   "source": [
    "from auto_graph_of_thoughts.env.wrapper import OrdinalDiscreteToDiscreteObsMappingWrapper, \\\n",
    "    OrdinalDiscreteObsFilterWrapper\n",
    "from auto_graph_of_thoughts.env import GraphOfThoughtsEnv, GraphObservationComponent\n",
    "from gymnasium.utils.env_checker import check_env\n",
    "from auto_graph_of_thoughts.tasks.sum_list import sum_list_task\n",
    "\n",
    "def create_discrete_depth_env(graph_of_thoughts_env: GraphOfThoughtsEnv):\n",
    "    component = GraphObservationComponent.depth\n",
    "    return OrdinalDiscreteToDiscreteObsMappingWrapper(\n",
    "            OrdinalDiscreteObsFilterWrapper(\n",
    "                    graph_of_thoughts_env, component\n",
    "            ),\n",
    "            graph_of_thoughts_env.observation_space[component.value]\n",
    "    )\n",
    "\n",
    "def create_env() -> GraphOfThoughtsEnv:\n",
    "    return GraphOfThoughtsEnv(\n",
    "            sum_list_task,\n",
    "            create_controller(),\n",
    "            seed=seed,\n",
    "            max_steps=100\n",
    "    )\n",
    "\n",
    "\n",
    "env = create_env()\n",
    "depth_env = create_discrete_depth_env(env)\n",
    "\n",
    "check_env(depth_env)"
   ],
   "metadata": {
    "collapsed": false,
    "ExecuteTime": {
     "end_time": "2024-05-03T11:25:37.756485Z",
     "start_time": "2024-05-03T11:25:37.721598Z"
    }
   },
   "id": "f48211167ac72e36",
   "outputs": [
    {
     "name": "stderr",
     "output_type": "stream",
     "text": [
      "C:\\Users\\Manuel\\.conda\\envs\\auto-graph-of-thoughts\\Lib\\site-packages\\gymnasium\\utils\\env_checker.py:277: UserWarning: \u001B[33mWARN: The environment (<OrdinalDiscreteToDiscreteObsMappingWrapper<OrdinalDiscreteObsFilterWrapper<GraphOfThoughtsEnv instance>>>) is different from the unwrapped version (<GraphOfThoughtsEnv instance>). This could effect the environment checker as the environment most likely has a wrapper applied to it. We recommend using the raw environment for `check_env` using `env.unwrapped`.\u001B[0m\n",
      "  logger.warn(\n",
      "C:\\Users\\Manuel\\.conda\\envs\\auto-graph-of-thoughts\\Lib\\site-packages\\gymnasium\\utils\\passive_env_checker.py:275: UserWarning: \u001B[33mWARN: The reward returned by `step()` must be a float, int, np.integer or np.floating, actual type: <class 'auto_graph_of_thoughts.env.graph_step_reward.GraphStepReward'>\u001B[0m\n",
      "  logger.warn(\n",
      "C:\\Users\\Manuel\\.conda\\envs\\auto-graph-of-thoughts\\Lib\\site-packages\\gymnasium\\utils\\env_checker.py:317: UserWarning: \u001B[33mWARN: Not able to test alternative render modes due to the environment not having a spec. Try instantialising the environment through gymnasium.make\u001B[0m\n",
      "  logger.warn(\n"
     ]
    }
   ],
   "execution_count": 3
  },
  {
   "cell_type": "markdown",
   "source": [
    "## Test Optimal Path\n",
    "To verify that the reward is shaped reasonably, the optimal path for the given list cardinality is evaluated."
   ],
   "metadata": {
    "collapsed": false
   },
   "id": "55be8ed2bd198e6"
  },
  {
   "cell_type": "code",
   "source": [
    "from auto_graph_of_thoughts.env import LayerAction, ActionType, GraphOfThoughtsEnv\n",
    "from auto_graph_of_thoughts.tasks.sum_list import op_split, op_sum, op_merge\n",
    "import numpy as np\n",
    "\n",
    "optimal_path = {\n",
    "    0: LayerAction(type=ActionType.AppendOperation, operation=op_split),\n",
    "    1: LayerAction(type=ActionType.AppendOperation, operation=op_sum),\n",
    "    2: LayerAction(type=ActionType.AppendOperation, operation=op_merge),\n",
    "    3: LayerAction(type=ActionType.AppendOperation, operation=op_sum),\n",
    "    4: LayerAction(type=ActionType.Stop)\n",
    "}\n",
    "\n",
    "\n",
    "def check_optimal_path(env: GraphOfThoughtsEnv):\n",
    "    obs, info = env.reset()\n",
    "    for i, decoded_action in enumerate(optimal_path.values()):\n",
    "        action = np.int64(env.encode_action(decoded_action))\n",
    "        depth = obs[GraphObservationComponent.depth.value].item()\n",
    "        operation_name = decoded_action.operation.name if decoded_action.operation is not None else None\n",
    "        print(f'depth: {depth}, 'f'action: {decoded_action.type.name}-{operation_name}')\n",
    "        obs, rewards, terminated, truncated, info = env.step(action)\n",
    "        if terminated or truncated:\n",
    "            print(f'rewards: {float(rewards)}')\n",
    "            obs, info = env.reset()\n",
    "\n",
    "\n",
    "check_optimal_path(env)"
   ],
   "metadata": {
    "collapsed": false,
    "ExecuteTime": {
     "end_time": "2024-05-03T11:25:37.769671Z",
     "start_time": "2024-05-03T11:25:37.757491Z"
    }
   },
   "id": "9abc415b5f2540fa",
   "outputs": [
    {
     "name": "stdout",
     "output_type": "stream",
     "text": [
      "depth: -1.0, action: AppendOperation-split\n",
      "depth: -0.75, action: AppendOperation-sum\n",
      "depth: -0.5, action: AppendOperation-merge\n",
      "depth: -0.25, action: AppendOperation-sum\n",
      "depth: 0.0, action: Stop-None\n",
      "rewards: 1.0\n"
     ]
    }
   ],
   "execution_count": 4
  },
  {
   "cell_type": "markdown",
   "source": [
    "## Training\n",
    "The Q-learning agent is trained on a total of $1000$ episodes with the following parameters:\n",
    "- learning rate $\\alpha$: $0.1$\n",
    "- discount factor $\\gamma$: $0.99$\n",
    "- exploration rate $\\epsilon$: $0.1$"
   ],
   "metadata": {
    "collapsed": false
   },
   "id": "c25aebdd7399e35c"
  },
  {
   "cell_type": "code",
   "source": [
    "from auto_graph_of_thoughts.rl.q_learning import QLearning\n",
    "\n",
    "alpha = 0.1\n",
    "gamma = 0.99\n",
    "epsilon = 0.1\n",
    "env = create_env()\n",
    "depth_env = create_discrete_depth_env(env)\n",
    "q_learning = QLearning(depth_env, alpha, gamma, epsilon, seed=seed)\n",
    "q_learning.learn(total_episodes=1500, verbose=True)\n"
   ],
   "metadata": {
    "collapsed": false,
    "ExecuteTime": {
     "end_time": "2024-05-03T11:25:48.126542Z",
     "start_time": "2024-05-03T11:25:37.771677Z"
    }
   },
   "id": "96f2db20ebbbd317",
   "outputs": [
    {
     "name": "stdout",
     "output_type": "stream",
     "text": [
      "Episode: 0, Total Reward: -0.1\n",
      "Episode: 100, Total Reward: 1.0875\n",
      "Episode: 200, Total Reward: 0.09999999999999998\n",
      "Episode: 300, Total Reward: 0.09999999999999998\n",
      "Episode: 400, Total Reward: 0.09999999999999998\n",
      "Episode: 500, Total Reward: 0.09999999999999998\n",
      "Episode: 600, Total Reward: 1.1375\n",
      "Episode: 700, Total Reward: 0.04999999999999999\n",
      "Episode: 800, Total Reward: 0.09999999999999998\n",
      "Episode: 900, Total Reward: -0.95\n",
      "Episode: 1000, Total Reward: -0.8875\n",
      "Episode: 1100, Total Reward: -0.3125\n",
      "Episode: 1200, Total Reward: -0.8625\n",
      "Episode: 1300, Total Reward: -0.15000000000000002\n",
      "Episode: 1400, Total Reward: 1.15\n"
     ]
    }
   ],
   "execution_count": 5
  },
  {
   "cell_type": "markdown",
   "source": [
    "A benefit of simple Reinforcement Learning algorithms such as Q-learning is their interpretability.\n",
    "By looking at the Q table, the action with the highest quality for each depth of the graph can be seen."
   ],
   "metadata": {
    "collapsed": false
   },
   "id": "d1ef2444d26786a2"
  },
  {
   "cell_type": "code",
   "source": [
    "np.array([np.argmax(layer) for layer in q_learning.Q])"
   ],
   "metadata": {
    "collapsed": false,
    "ExecuteTime": {
     "end_time": "2024-05-03T11:25:48.136978Z",
     "start_time": "2024-05-03T11:25:48.127549Z"
    }
   },
   "id": "59fd7c4c268ba1c6",
   "outputs": [
    {
     "data": {
      "text/plain": [
       "array([3, 2, 2, 4, 2, 2, 2, 0, 1], dtype=int64)"
      ]
     },
     "execution_count": 6,
     "metadata": {},
     "output_type": "execute_result"
    }
   ],
   "execution_count": 6
  },
  {
   "cell_type": "markdown",
   "source": [
    "By decoding the action to its complex representation, it can be seen that the inner representation is similar to the optimal path."
   ],
   "metadata": {
    "collapsed": false
   },
   "id": "8cf8f28454be1ef3"
  },
  {
   "cell_type": "code",
   "source": [
    "for depth, encoded_action in enumerate([np.argmax(layer) for layer in q_learning.Q]):\n",
    "    decoded_action = env.decode_action(encoded_action)\n",
    "    operation_name = decoded_action.operation.name if decoded_action.operation is not None else None\n",
    "    print(f'{depth}: {decoded_action.type}-{operation_name}')"
   ],
   "metadata": {
    "collapsed": false,
    "ExecuteTime": {
     "end_time": "2024-05-03T11:25:48.146058Z",
     "start_time": "2024-05-03T11:25:48.137986Z"
    }
   },
   "id": "c236cfdbc4825bbb",
   "outputs": [
    {
     "name": "stdout",
     "output_type": "stream",
     "text": [
      "0: ActionType.AppendOperation-split\n",
      "1: ActionType.AppendOperation-sum\n",
      "2: ActionType.AppendOperation-sum\n",
      "3: ActionType.AppendOperation-merge\n",
      "4: ActionType.AppendOperation-sum\n",
      "5: ActionType.AppendOperation-sum\n",
      "6: ActionType.AppendOperation-sum\n",
      "7: ActionType.Stop-None\n",
      "8: ActionType.Backtrack-None\n"
     ]
    }
   ],
   "execution_count": 7
  },
  {
   "cell_type": "markdown",
   "source": [
    "## Evaluate Trained Model\n",
    "The trained model is evaluated by playing an episode."
   ],
   "metadata": {
    "collapsed": false
   },
   "id": "993d4ddabf078995"
  },
  {
   "cell_type": "code",
   "source": [
    "terminated = False\n",
    "truncated = False\n",
    "total_rewards = 0\n",
    "state, _ = depth_env.reset()\n",
    "info = {}\n",
    "while not terminated and not truncated:\n",
    "    action = q_learning.predict(state)\n",
    "    decoded_action = depth_env.decode_action(action)\n",
    "    operation_name = decoded_action.operation.name if decoded_action.operation is not None else None\n",
    "    print(f'depth: {state}, action: {decoded_action.type}-{operation_name}')\n",
    "    state, reward, terminated, truncated, info = depth_env.step(action)\n",
    "    reward = float(reward)\n",
    "    print(f'reward: {reward}')\n",
    "    total_rewards += reward\n",
    "\n",
    "print(f'done: {info}')\n",
    "\n",
    "depth_env.close()"
   ],
   "metadata": {
    "collapsed": false,
    "ExecuteTime": {
     "end_time": "2024-05-03T11:25:48.163873Z",
     "start_time": "2024-05-03T11:25:48.147068Z"
    }
   },
   "id": "4c8720f8c4e55d51",
   "outputs": [
    {
     "name": "stdout",
     "output_type": "stream",
     "text": [
      "depth: 0, action: ActionType.AppendOperation-split\n",
      "reward: 0.0375\n",
      "depth: 1, action: ActionType.AppendOperation-sum\n",
      "reward: 0.075\n",
      "depth: 2, action: ActionType.AppendOperation-sum\n",
      "reward: 0.0625\n",
      "depth: 3, action: ActionType.AppendOperation-merge\n",
      "reward: 0.0\n",
      "depth: 4, action: ActionType.AppendOperation-sum\n",
      "reward: 0.0375\n",
      "depth: 5, action: ActionType.AppendOperation-sum\n",
      "reward: 0.025\n",
      "depth: 6, action: ActionType.AppendOperation-sum\n",
      "reward: 0.0125\n",
      "depth: 7, action: ActionType.Stop-None\n",
      "reward: 1.0\n",
      "done: {'solved': True}\n"
     ]
    }
   ],
   "execution_count": 8
  },
  {
   "cell_type": "markdown",
   "source": [
    "The task is solved by the agent.\n",
    "The graph of operations and the resulting graph of thoughts look as follows."
   ],
   "metadata": {
    "collapsed": false
   },
   "id": "89b635295166d86c"
  },
  {
   "cell_type": "code",
   "source": [
    "from pure_graph_of_thoughts.visualization import plot_graph\n",
    "\n",
    "print('Graph of Operations')\n",
    "plot_graph(env.graph_of_operations)\n",
    "print('Graph of Thoughts')\n",
    "plot_graph(env.graph_of_thoughts)"
   ],
   "metadata": {
    "collapsed": false,
    "ExecuteTime": {
     "end_time": "2024-05-03T11:25:48.915015Z",
     "start_time": "2024-05-03T11:25:48.164879Z"
    }
   },
   "id": "fadb04ef130783d3",
   "outputs": [
    {
     "name": "stdout",
     "output_type": "stream",
     "text": [
      "Graph of Operations\n"
     ]
    },
    {
     "data": {
      "text/plain": [
       "<Figure size 640x480 with 1 Axes>"
      ],
      "image/png": "[encoded data removed]"
     },
     "metadata": {},
     "output_type": "display_data"
    },
    {
     "name": "stdout",
     "output_type": "stream",
     "text": [
      "Graph of Thoughts\n"
     ]
    },
    {
     "data": {
      "text/plain": [
       "<Figure size 640x480 with 1 Axes>"
      ],
      "image/png": "[encoded data removed]"
     },
     "metadata": {},
     "output_type": "display_data"
    }
   ],
   "execution_count": 9
  }
 ],
 "metadata": {
  "kernelspec": {
   "display_name": "Python 3",
   "language": "python",
   "name": "python3"
  },
  "language_info": {
   "codemirror_mode": {
    "name": "ipython",
    "version": 2
   },
   "file_extension": ".py",
   "mimetype": "text/x-python",
   "name": "python",
   "nbconvert_exporter": "python",
   "pygments_lexer": "ipython2",
   "version": "2.7.6"
  }
 },
 "nbformat": 4,
 "nbformat_minor": 5
}
