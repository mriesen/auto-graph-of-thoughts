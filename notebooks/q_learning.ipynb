{
 "cells": [
  {
   "cell_type": "markdown",
   "source": [
    "# Automated Graph of Thoughts - Q-Learning with Discrete Depth Observation Space\n",
    "As a first approach, a simple Q-learning agent is trained on a subspace of the environment `GraphOfThoughtsEnv`.\n",
    "Concretely, the observation space is reduced to a discrete one that is represented by the `depth` of the graph of operations."
   ],
   "metadata": {
    "collapsed": false
   },
   "id": "da8e87edce92263d"
  },
  {
   "cell_type": "markdown",
   "source": [
    "## Ensure Reproducibility\n",
    "The seed for the PRNG is set to $0$."
   ],
   "metadata": {
    "collapsed": false
   },
   "id": "d5bddc0d7d328f0c"
  },
  {
   "cell_type": "code",
   "source": [
    "from stable_baselines3.common.utils import set_random_seed\n",
    "\n",
    "SEED = 0\n",
    "set_random_seed(SEED)"
   ],
   "metadata": {
    "collapsed": false,
    "ExecuteTime": {
     "end_time": "2024-05-07T17:08:31.651905Z",
     "start_time": "2024-05-07T17:08:28.807415Z"
    }
   },
   "id": "b52ff94e6cc26024",
   "outputs": [],
   "execution_count": 1
  },
  {
   "cell_type": "markdown",
   "source": [
    "## Provide Required Components with Parameters\n",
    "Factory function for the required components are provided.\n",
    "The experiment is employed with the following parameters:\n",
    "- maximum graph depth: $8$\n",
    "- maximum graph breadth: $4$\n",
    "- divergence cutoff factor: $0.5$\n",
    "- reward function `V4`\n",
    "\n",
    "The model is trained solely on lists of cardinality $16$.\n",
    "The complexity equals the list cardinality."
   ],
   "metadata": {
    "collapsed": false
   },
   "id": "21843e1a2b44be91"
  },
  {
   "metadata": {
    "ExecuteTime": {
     "end_time": "2024-05-07T17:08:32.264944Z",
     "start_time": "2024-05-07T17:08:31.652923Z"
    }
   },
   "cell_type": "code",
   "source": [
    "from auto_graph_of_thoughts.env import GraphObservationComponent, GraphStepRewardVersion\n",
    "from auto_graph_of_thoughts.experiment import ExperimentConfiguration, LanguageModelSimulationType, Experiment\n",
    "from auto_graph_of_thoughts.tasks.sum_list import sum_list_task\n",
    "\n",
    "COMPLEXITIES = [16]\n",
    "\n",
    "EVAL_N_EPISODES = 100\n",
    "\n",
    "config = ExperimentConfiguration(\n",
    "        seed=SEED,\n",
    "        task=sum_list_task,\n",
    "        max_steps=20,\n",
    "        observation_filter={\n",
    "            GraphObservationComponent.DEPTH\n",
    "        },\n",
    "        max_depth=8,\n",
    "        max_breadth=4,\n",
    "        divergence_cutoff_factor=0.5,\n",
    "        train_complexities=COMPLEXITIES,\n",
    "        eval_complexities=COMPLEXITIES,\n",
    "        max_complexity=max(COMPLEXITIES),\n",
    "        max_operations=32,\n",
    "        lm_simulation_type=LanguageModelSimulationType.REALISTIC,\n",
    "        reward_version=GraphStepRewardVersion.V4\n",
    ")\n",
    "experiment = Experiment(config)\n"
   ],
   "id": "d23c7bd8e5843738",
   "outputs": [],
   "execution_count": 2
  },
  {
   "cell_type": "markdown",
   "source": [
    "## Instantiate Environment\n",
    "The `GraphOfThoughtsEnv` environment is instantiated.\n",
    "To reduce the observation space to a discrete shape, the actual environment is wrapped in a discrete observation projection wrapper.\n",
    "The resulting `depth_env` is used for the training."
   ],
   "metadata": {
    "collapsed": false
   },
   "id": "61eccda5083deb83"
  },
  {
   "cell_type": "code",
   "source": [
    "from auto_graph_of_thoughts.env.wrapper import OrdinalDiscreteToDiscreteObsMappingWrapper, \\\n",
    "    OrdinalDiscreteObsFilterWrapper\n",
    "from auto_graph_of_thoughts.env import GraphOfThoughtsEnv, GraphObservationComponent\n",
    "from gymnasium.utils.env_checker import check_env\n",
    "\n",
    "def create_discrete_depth_env(graph_of_thoughts_env: GraphOfThoughtsEnv):\n",
    "    component = GraphObservationComponent.DEPTH\n",
    "    return OrdinalDiscreteToDiscreteObsMappingWrapper(\n",
    "            OrdinalDiscreteObsFilterWrapper(\n",
    "                    graph_of_thoughts_env, component\n",
    "            ),\n",
    "            graph_of_thoughts_env.observation_space[component.value]\n",
    "    )\n",
    "\n",
    "env = experiment.create_unwrapped_train_env()\n",
    "depth_env = create_discrete_depth_env(env)\n",
    "\n",
    "check_env(depth_env)"
   ],
   "metadata": {
    "collapsed": false,
    "ExecuteTime": {
     "end_time": "2024-05-07T17:08:32.280344Z",
     "start_time": "2024-05-07T17:08:32.265949Z"
    }
   },
   "id": "f48211167ac72e36",
   "outputs": [
    {
     "name": "stderr",
     "output_type": "stream",
     "text": [
      "C:\\Users\\Manuel\\.conda\\envs\\auto-graph-of-thoughts\\Lib\\site-packages\\gymnasium\\utils\\env_checker.py:277: UserWarning: \u001B[33mWARN: The environment (<OrdinalDiscreteToDiscreteObsMappingWrapper<OrdinalDiscreteObsFilterWrapper<GraphOfThoughtsEnv instance>>>) is different from the unwrapped version (<GraphOfThoughtsEnv instance>). This could effect the environment checker as the environment most likely has a wrapper applied to it. We recommend using the raw environment for `check_env` using `env.unwrapped`.\u001B[0m\n",
      "  logger.warn(\n",
      "C:\\Users\\Manuel\\.conda\\envs\\auto-graph-of-thoughts\\Lib\\site-packages\\gymnasium\\utils\\passive_env_checker.py:275: UserWarning: \u001B[33mWARN: The reward returned by `step()` must be a float, int, np.integer or np.floating, actual type: <class 'auto_graph_of_thoughts.env.graph_step_reward.GraphStepReward'>\u001B[0m\n",
      "  logger.warn(\n",
      "C:\\Users\\Manuel\\.conda\\envs\\auto-graph-of-thoughts\\Lib\\site-packages\\gymnasium\\utils\\env_checker.py:317: UserWarning: \u001B[33mWARN: Not able to test alternative render modes due to the environment not having a spec. Try instantialising the environment through gymnasium.make\u001B[0m\n",
      "  logger.warn(\n"
     ]
    }
   ],
   "execution_count": 3
  },
  {
   "cell_type": "markdown",
   "source": [
    "## Test Optimal Path\n",
    "To verify that the reward is shaped reasonably, the optimal path for the given list cardinality is evaluated."
   ],
   "metadata": {
    "collapsed": false
   },
   "id": "55be8ed2bd198e6"
  },
  {
   "cell_type": "code",
   "source": [
    "from auto_graph_of_thoughts.env import LayerAction, ActionType, GraphOfThoughtsEnv\n",
    "from auto_graph_of_thoughts.tasks.sum_list import op_split, op_sum, op_merge\n",
    "import numpy as np\n",
    "\n",
    "optimal_path = {\n",
    "    0: LayerAction(type=ActionType.APPEND_OPERATION, operation=op_split),\n",
    "    1: LayerAction(type=ActionType.APPEND_OPERATION, operation=op_sum),\n",
    "    2: LayerAction(type=ActionType.APPEND_OPERATION, operation=op_merge),\n",
    "    3: LayerAction(type=ActionType.APPEND_OPERATION, operation=op_sum),\n",
    "    4: LayerAction(type=ActionType.STOP)\n",
    "}\n",
    "\n",
    "\n",
    "def check_optimal_path(env: GraphOfThoughtsEnv):\n",
    "    obs, _ = env.reset()\n",
    "    total_rewards = 0\n",
    "    for i, decoded_action in enumerate(optimal_path.values()):\n",
    "        action = np.int64(env.encode_action(decoded_action))\n",
    "        depth = env.current_depth\n",
    "        operation_name = decoded_action.operation.name if decoded_action.operation is not None else None\n",
    "        print(f'depth: {depth}, 'f'action: {decoded_action.type.name}-{operation_name}')\n",
    "        obs, rewards, terminated, truncated, info = env.step(action)\n",
    "        total_rewards += float(rewards)\n",
    "        if terminated or truncated:\n",
    "            print(f'rewards: {float(total_rewards)}')\n",
    "            env.reset()\n",
    "\n",
    "\n",
    "check_optimal_path(env)"
   ],
   "metadata": {
    "collapsed": false,
    "ExecuteTime": {
     "end_time": "2024-05-07T17:08:32.292295Z",
     "start_time": "2024-05-07T17:08:32.281862Z"
    }
   },
   "id": "9abc415b5f2540fa",
   "outputs": [
    {
     "name": "stdout",
     "output_type": "stream",
     "text": [
      "depth: 0, action: AppendOperation-split\n",
      "depth: 1, action: AppendOperation-sum\n",
      "depth: 2, action: AppendOperation-merge\n",
      "depth: 3, action: AppendOperation-sum\n",
      "depth: 4, action: Stop-None\n",
      "rewards: 1.275\n"
     ]
    }
   ],
   "execution_count": 4
  },
  {
   "cell_type": "markdown",
   "source": [
    "## Training\n",
    "The Q-learning agent is trained on a total of $1000$ episodes with the following parameters:\n",
    "- learning rate $\\alpha$: $0.1$\n",
    "- discount factor $\\gamma$: $0.99$\n",
    "- exploration rate $\\epsilon$: $0.1$"
   ],
   "metadata": {
    "collapsed": false
   },
   "id": "c25aebdd7399e35c"
  },
  {
   "cell_type": "code",
   "source": [
    "from auto_graph_of_thoughts.rl.q_learning import QLearning\n",
    "\n",
    "alpha = 0.1\n",
    "gamma = 0.99\n",
    "epsilon = 0.1\n",
    "env = experiment.create_unwrapped_train_env()\n",
    "depth_env = create_discrete_depth_env(env)\n",
    "q_learning = QLearning(depth_env, alpha, gamma, epsilon, seed=SEED)\n",
    "q_learning.learn(total_episodes=500, verbose=True)"
   ],
   "metadata": {
    "collapsed": false,
    "ExecuteTime": {
     "end_time": "2024-05-07T17:08:35.650064Z",
     "start_time": "2024-05-07T17:08:32.294321Z"
    }
   },
   "id": "96f2db20ebbbd317",
   "outputs": [
    {
     "name": "stdout",
     "output_type": "stream",
     "text": [
      "Episode: 0, Total Reward: -1.0\n",
      "Episode: 100, Total Reward: -0.4500000000000001\n",
      "Episode: 200, Total Reward: -0.15000000000000002\n",
      "Episode: 300, Total Reward: 0.14999999999999997\n",
      "Episode: 400, Total Reward: 1.35\n"
     ]
    }
   ],
   "execution_count": 5
  },
  {
   "cell_type": "markdown",
   "source": [
    "A benefit of simple Reinforcement Learning algorithms such as Q-learning is their interpretability.\n",
    "By looking at the Q table, the action with the highest quality for each depth of the graph can be seen."
   ],
   "metadata": {
    "collapsed": false
   },
   "id": "d1ef2444d26786a2"
  },
  {
   "metadata": {
    "ExecuteTime": {
     "end_time": "2024-05-07T17:08:35.658647Z",
     "start_time": "2024-05-07T17:08:35.651498Z"
    }
   },
   "cell_type": "code",
   "source": "q_learning.Q",
   "id": "68495c4d49e3193a",
   "outputs": [
    {
     "data": {
      "text/plain": [
       "array([[-0.24409744,  0.15887828,  0.41142333,  1.6461997 ,  0.23121212],\n",
       "       [ 0.35178268,  0.09741773,  1.9999275 ,  0.21366605,  0.51358384],\n",
       "       [ 0.17349096,  0.23859304,  2.419285  ,  0.2284778 ,  0.3635886 ],\n",
       "       [ 0.09743664,  0.12379821,  2.908327  ,  0.08739422,  0.3029778 ],\n",
       "       [ 0.40072787,  0.5025548 ,  3.5555642 ,  0.5968451 ,  0.15462635],\n",
       "       [ 0.66960067,  0.3206093 ,  1.0561923 ,  0.97543126,  4.3604236 ],\n",
       "       [ 0.3224881 ,  0.4586276 ,  5.2990503 ,  0.6499446 ,  0.66433   ],\n",
       "       [ 0.63793933,  1.0194478 ,  6.0434246 ,  0.8377415 , -0.01447335],\n",
       "       [ 7.004277  , -0.07798206,  0.25626156,  1.1405298 ,  0.48574054]],\n",
       "      dtype=float32)"
      ]
     },
     "execution_count": 6,
     "metadata": {},
     "output_type": "execute_result"
    }
   ],
   "execution_count": 6
  },
  {
   "cell_type": "code",
   "source": [
    "np.array([np.argmax(layer) for layer in q_learning.Q])"
   ],
   "metadata": {
    "collapsed": false,
    "ExecuteTime": {
     "end_time": "2024-05-07T17:08:35.667214Z",
     "start_time": "2024-05-07T17:08:35.658647Z"
    }
   },
   "id": "59fd7c4c268ba1c6",
   "outputs": [
    {
     "data": {
      "text/plain": [
       "array([3, 2, 2, 2, 2, 4, 2, 2, 0], dtype=int64)"
      ]
     },
     "execution_count": 7,
     "metadata": {},
     "output_type": "execute_result"
    }
   ],
   "execution_count": 7
  },
  {
   "cell_type": "markdown",
   "source": [
    "By decoding the action to its complex representation, it can be seen that the inner representation is similar to the optimal path."
   ],
   "metadata": {
    "collapsed": false
   },
   "id": "8cf8f28454be1ef3"
  },
  {
   "cell_type": "code",
   "source": [
    "for depth, encoded_action in enumerate([np.argmax(layer) for layer in q_learning.Q]):\n",
    "    decoded_action = env.decode_action(encoded_action)\n",
    "    operation_name = decoded_action.operation.name if decoded_action.operation is not None else None\n",
    "    print(f'{depth}: {decoded_action.type}-{operation_name}')"
   ],
   "metadata": {
    "collapsed": false,
    "ExecuteTime": {
     "end_time": "2024-05-07T17:08:35.674565Z",
     "start_time": "2024-05-07T17:08:35.669221Z"
    }
   },
   "id": "c236cfdbc4825bbb",
   "outputs": [
    {
     "name": "stdout",
     "output_type": "stream",
     "text": [
      "0: ActionType.AppendOperation-split\n",
      "1: ActionType.AppendOperation-sum\n",
      "2: ActionType.AppendOperation-sum\n",
      "3: ActionType.AppendOperation-sum\n",
      "4: ActionType.AppendOperation-sum\n",
      "5: ActionType.AppendOperation-merge\n",
      "6: ActionType.AppendOperation-sum\n",
      "7: ActionType.AppendOperation-sum\n",
      "8: ActionType.Stop-None\n"
     ]
    }
   ],
   "execution_count": 8
  },
  {
   "cell_type": "markdown",
   "source": [
    "## Evaluate Trained Model\n",
    "The trained model is evaluated by playing an episode."
   ],
   "metadata": {
    "collapsed": false
   },
   "id": "993d4ddabf078995"
  },
  {
   "cell_type": "code",
   "source": [
    "terminated = False\n",
    "truncated = False\n",
    "total_rewards = 0\n",
    "state, _ = depth_env.reset()\n",
    "info = {}\n",
    "while not terminated and not truncated:\n",
    "    action = q_learning.predict(state)\n",
    "    decoded_action = depth_env.decode_action(action)\n",
    "    operation_name = decoded_action.operation.name if decoded_action.operation is not None else None\n",
    "    print(f'depth: {state}, action: {decoded_action.type}-{operation_name}')\n",
    "    state, reward, terminated, truncated, info = depth_env.step(action)\n",
    "    reward = float(reward)\n",
    "    print(f'reward: {reward}')\n",
    "    total_rewards += reward\n",
    "\n",
    "print(f'done: {info}')\n",
    "\n",
    "depth_env.close()"
   ],
   "metadata": {
    "collapsed": false,
    "ExecuteTime": {
     "end_time": "2024-05-07T17:08:35.691096Z",
     "start_time": "2024-05-07T17:08:35.675571Z"
    }
   },
   "id": "4c8720f8c4e55d51",
   "outputs": [
    {
     "name": "stdout",
     "output_type": "stream",
     "text": [
      "depth: 0, action: ActionType.AppendOperation-split\n",
      "reward: 0.0875\n",
      "depth: 1, action: ActionType.AppendOperation-sum\n",
      "reward: 0.075\n",
      "depth: 2, action: ActionType.AppendOperation-sum\n",
      "reward: 0.0625\n",
      "depth: 3, action: ActionType.AppendOperation-sum\n",
      "reward: 0.05\n",
      "depth: 4, action: ActionType.AppendOperation-sum\n",
      "reward: 0.0375\n",
      "depth: 5, action: ActionType.AppendOperation-merge\n",
      "reward: 0.025\n",
      "depth: 6, action: ActionType.AppendOperation-sum\n",
      "reward: 0.0125\n",
      "depth: 7, action: ActionType.AppendOperation-sum\n",
      "reward: 0.0\n",
      "depth: 8, action: ActionType.Stop-None\n",
      "reward: 1.0\n",
      "done: {'solved': True}\n"
     ]
    }
   ],
   "execution_count": 9
  },
  {
   "cell_type": "markdown",
   "source": [
    "The task is solved by the agent.\n",
    "The graph of operations and the resulting graph of thoughts look as follows."
   ],
   "metadata": {
    "collapsed": false
   },
   "id": "89b635295166d86c"
  },
  {
   "cell_type": "code",
   "source": [
    "from pure_graph_of_thoughts.visualization import plot_graph\n",
    "\n",
    "print('Graph of Operations')\n",
    "plot_graph(env.graph_of_operations)\n",
    "print('Graph of Thoughts')\n",
    "plot_graph(env.graph_of_thoughts)"
   ],
   "metadata": {
    "collapsed": false,
    "ExecuteTime": {
     "end_time": "2024-05-07T17:08:36.414109Z",
     "start_time": "2024-05-07T17:08:35.692104Z"
    }
   },
   "id": "fadb04ef130783d3",
   "outputs": [
    {
     "name": "stdout",
     "output_type": "stream",
     "text": [
      "Graph of Operations\n"
     ]
    },
    {
     "data": {
      "text/plain": [
       "<Figure size 640x480 with 1 Axes>"
      ],
      "image/png": "[encoded data removed]"
     },
     "metadata": {},
     "output_type": "display_data"
    },
    {
     "name": "stdout",
     "output_type": "stream",
     "text": [
      "Graph of Thoughts\n"
     ]
    },
    {
     "data": {
      "text/plain": [
       "<Figure size 640x480 with 1 Axes>"
      ],
      "image/png": "[encoded data removed]"
     },
     "metadata": {},
     "output_type": "display_data"
    }
   ],
   "execution_count": 10
  }
 ],
 "metadata": {
  "kernelspec": {
   "display_name": "Python 3",
   "language": "python",
   "name": "python3"
  },
  "language_info": {
   "codemirror_mode": {
    "name": "ipython",
    "version": 2
   },
   "file_extension": ".py",
   "mimetype": "text/x-python",
   "name": "python",
   "nbconvert_exporter": "python",
   "pygments_lexer": "ipython2",
   "version": "2.7.6"
  }
 },
 "nbformat": 4,
 "nbformat_minor": 5
}
